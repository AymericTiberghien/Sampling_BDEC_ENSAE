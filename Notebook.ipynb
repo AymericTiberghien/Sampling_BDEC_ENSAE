{
 "cells": [
  {
   "cell_type": "markdown",
   "id": "8214175e",
   "metadata": {},
   "source": []
  },
  {
   "cell_type": "code",
   "execution_count": 1,
   "id": "c17f6eba",
   "metadata": {},
   "outputs": [],
   "source": [
    "import numpy as np\n",
    "from scipy.stats import multivariate_normal\n",
    "from scipy.optimize import minimize\n",
    "from ula import GaussianMixtureULA\n",
    "from Metropolized_Transition_Operator import MetropolizedTransitionOperator\n",
    "from Exploration_Component import exploration_component\n",
    "from BDLS import BDLS_algo\n",
    "from BDEC import BDEC"
   ]
  },
  {
   "cell_type": "code",
   "execution_count": 2,
   "id": "1248dd72",
   "metadata": {},
   "outputs": [],
   "source": [
    "%load_ext autoreload\n",
    "%autoreload 2"
   ]
  },
  {
   "cell_type": "markdown",
   "id": "483d997f",
   "metadata": {},
   "source": [
    "# Experiment\n",
    "We plan to reproduce the experiment made in section 4.1 of the paper, i.e. target distribution is a simple\n",
    "2D Gaussian Mixture."
   ]
  },
  {
   "cell_type": "code",
   "execution_count": null,
   "id": "7235a5b1",
   "metadata": {},
   "outputs": [],
   "source": [
    "mu_0=np.array([[0,8]])\n",
    "sigma_0=np.array([[0.3,0],[0,0.01]])\n",
    "N_init= 2000\n",
    "temp_hot=0.05\n",
    "\n",
    "weights = np.full(4, 1/4)\n",
    "\n",
    "means = np.array([\n",
    "    [ 0.0, 8.0],\n",
    "    [ 0.0, 2.0],\n",
    "    [-3.0, 5.0],\n",
    "    [ 3.0, 5.0],\n",
    "])\n",
    "\n",
    "covs = np.array([\n",
    "    [[1.2, 0.0], [0.0, 0.01]],\n",
    "    [[1.2, 0.0], [0.0, 0.01]],\n",
    "    [[0.01, 0.0], [0.0, 2.0]],\n",
    "    [[0.01, 0.0], [0.0, 2.0]],\n",
    "])\n",
    "\n",
    "init_particles_target=multivariate_normal.rvs(mean=mu_0[0], cov=sigma_0, \n",
    "                                              size=N_init)\n",
    "init_particles_hot=multivariate_normal.rvs(mean=mu_0[0], cov=sigma_0/temp_hot, \n",
    "                                           size=N_init)\n",
    "delta_t=0.005\n",
    "J=50 # Time for one iteration seems very long, consider setting it to 10\n",
    "T=6 \n",
    "B=12\n",
    "thr=2\n",
    "\n"
   ]
  },
  {
   "cell_type": "code",
   "execution_count": 12,
   "id": "227ee154",
   "metadata": {},
   "outputs": [
    {
     "data": {
      "text/plain": [
       "0"
      ]
     },
     "execution_count": 12,
     "metadata": {},
     "output_type": "execute_result"
    }
   ],
   "source": [
    "np.isnan(init_particles_target).sum(\n",
    ")"
   ]
  },
  {
   "cell_type": "code",
   "execution_count": 16,
   "id": "df9a76f6",
   "metadata": {},
   "outputs": [
    {
     "name": "stdout",
     "output_type": "stream",
     "text": [
      "Debut de la boucle 1\n",
      "Boucle 1 terminée\n",
      "Debut de la boucle 2\n"
     ]
    },
    {
     "ename": "KeyboardInterrupt",
     "evalue": "",
     "output_type": "error",
     "traceback": [
      "\u001b[1;31m---------------------------------------------------------------------------\u001b[0m",
      "\u001b[1;31mKeyboardInterrupt\u001b[0m                         Traceback (most recent call last)",
      "Cell \u001b[1;32mIn[16], line 5\u001b[0m\n\u001b[0;32m      1\u001b[0m bdec\u001b[38;5;241m=\u001b[39mBDEC(mu_0,sigma_0,\u001b[38;5;241m1\u001b[39m,thr,B,N_init,weights,means,covs,delta_t,T,\n\u001b[0;32m      2\u001b[0m           init_particles_hot,init_particles_target,J,temp_hot\u001b[38;5;241m=\u001b[39m\u001b[38;5;241m0.05\u001b[39m,temp_target\u001b[38;5;241m=\u001b[39m\u001b[38;5;241m1\u001b[39m\n\u001b[0;32m      3\u001b[0m           )\n\u001b[1;32m----> 5\u001b[0m \u001b[43mbdec\u001b[49m\u001b[38;5;241;43m.\u001b[39;49m\u001b[43mrun\u001b[49m\u001b[43m(\u001b[49m\u001b[43m)\u001b[49m\n",
      "File \u001b[1;32mc:\\Users\\aymer\\Documents\\Sampling\\BDEC.py:89\u001b[0m, in \u001b[0;36mBDEC.run\u001b[1;34m(self)\u001b[0m\n\u001b[0;32m     87\u001b[0m \u001b[38;5;28;01mfor\u001b[39;00m j \u001b[38;5;129;01min\u001b[39;00m \u001b[38;5;28mrange\u001b[39m(\u001b[38;5;241m1\u001b[39m,\u001b[38;5;28mself\u001b[39m\u001b[38;5;241m.\u001b[39mJ\u001b[38;5;241m+\u001b[39m\u001b[38;5;241m1\u001b[39m):\n\u001b[0;32m     88\u001b[0m     \u001b[38;5;28mprint\u001b[39m(\u001b[38;5;124m\"\u001b[39m\u001b[38;5;124mDebut de la boucle \u001b[39m\u001b[38;5;124m\"\u001b[39m\u001b[38;5;241m+\u001b[39m\u001b[38;5;28mstr\u001b[39m(j))\n\u001b[1;32m---> 89\u001b[0m     \u001b[38;5;28;43mself\u001b[39;49m\u001b[38;5;241;43m.\u001b[39;49m\u001b[43mupdate_hot\u001b[49m\u001b[43m(\u001b[49m\u001b[43m(\u001b[49m\u001b[38;5;28;43mself\u001b[39;49m\u001b[38;5;241;43m.\u001b[39;49m\u001b[43mJ\u001b[49m\u001b[38;5;241;43m-\u001b[39;49m\u001b[38;5;241;43m1\u001b[39;49m\u001b[43m)\u001b[49m\u001b[38;5;241;43m*\u001b[39;49m\u001b[38;5;28;43mself\u001b[39;49m\u001b[38;5;241;43m.\u001b[39;49m\u001b[43mT\u001b[49m\u001b[43m)\u001b[49m\n\u001b[0;32m     90\u001b[0m     \u001b[38;5;28mself\u001b[39m\u001b[38;5;241m.\u001b[39mexploration_component(j)\n\u001b[0;32m     91\u001b[0m     \u001b[38;5;28mself\u001b[39m\u001b[38;5;241m.\u001b[39mupdate_target((\u001b[38;5;28mself\u001b[39m\u001b[38;5;241m.\u001b[39mJ\u001b[38;5;241m-\u001b[39m\u001b[38;5;241m1\u001b[39m)\u001b[38;5;241m*\u001b[39m\u001b[38;5;28mself\u001b[39m\u001b[38;5;241m.\u001b[39mT)\n",
      "File \u001b[1;32mc:\\Users\\aymer\\Documents\\Sampling\\BDEC.py:37\u001b[0m, in \u001b[0;36mBDEC.update_hot\u001b[1;34m(self, m)\u001b[0m\n\u001b[0;32m     34\u001b[0m \u001b[38;5;28mself\u001b[39m\u001b[38;5;241m.\u001b[39msampler_hot\u001b[38;5;241m=\u001b[39mGaussianMixtureULA(\u001b[38;5;28mself\u001b[39m\u001b[38;5;241m.\u001b[39mweights, \u001b[38;5;28mself\u001b[39m\u001b[38;5;241m.\u001b[39mmeans, \u001b[38;5;28mself\u001b[39m\u001b[38;5;241m.\u001b[39mcovs,\n\u001b[0;32m     35\u001b[0m                                      \u001b[38;5;28mself\u001b[39m\u001b[38;5;241m.\u001b[39mtemp_hot, \u001b[38;5;28mself\u001b[39m\u001b[38;5;241m.\u001b[39mdelta_t)\n\u001b[0;32m     36\u001b[0m \u001b[38;5;28;01mfor\u001b[39;00m t \u001b[38;5;129;01min\u001b[39;00m \u001b[38;5;28mrange\u001b[39m(\u001b[38;5;28mself\u001b[39m\u001b[38;5;241m.\u001b[39mT\u001b[38;5;241m+\u001b[39mm):  \n\u001b[1;32m---> 37\u001b[0m     \u001b[38;5;28mself\u001b[39m\u001b[38;5;241m.\u001b[39mcurrent_particles_hot\u001b[38;5;241m=\u001b[39m\u001b[38;5;28;43mself\u001b[39;49m\u001b[38;5;241;43m.\u001b[39;49m\u001b[43msampler_hot\u001b[49m\u001b[38;5;241;43m.\u001b[39;49m\u001b[43mlangevin_update\u001b[49m\u001b[43m(\u001b[49m\n\u001b[0;32m     38\u001b[0m \u001b[43m        \u001b[49m\u001b[38;5;28;43mself\u001b[39;49m\u001b[38;5;241;43m.\u001b[39;49m\u001b[43mcurrent_particles_hot\u001b[49m\u001b[43m)\u001b[49m\n",
      "File \u001b[1;32mc:\\Users\\aymer\\Documents\\Sampling\\ula.py:110\u001b[0m, in \u001b[0;36mGaussianMixtureULA.langevin_update\u001b[1;34m(self, y)\u001b[0m\n\u001b[0;32m    108\u001b[0m     grads \u001b[38;5;241m=\u001b[39m \u001b[38;5;28mself\u001b[39m\u001b[38;5;241m.\u001b[39mgrad_V(y[i])\n\u001b[0;32m    109\u001b[0m     \u001b[38;5;66;03m# print(grads)\u001b[39;00m\n\u001b[1;32m--> 110\u001b[0m     noise \u001b[38;5;241m=\u001b[39m \u001b[43mnp\u001b[49m\u001b[38;5;241;43m.\u001b[39;49m\u001b[43mrandom\u001b[49m\u001b[38;5;241;43m.\u001b[39;49m\u001b[43mnormal\u001b[49m\u001b[43m(\u001b[49m\u001b[38;5;241;43m0\u001b[39;49m\u001b[43m,\u001b[49m\u001b[38;5;241;43m1\u001b[39;49m\u001b[43m,\u001b[49m\u001b[38;5;241;43m2\u001b[39;49m\u001b[43m)\u001b[49m\n\u001b[0;32m    111\u001b[0m     y[i] \u001b[38;5;241m=\u001b[39m (y[i] \u001b[38;5;241m-\u001b[39m \u001b[38;5;28mself\u001b[39m\u001b[38;5;241m.\u001b[39mdelta_t \u001b[38;5;241m*\u001b[39m \u001b[38;5;28mself\u001b[39m\u001b[38;5;241m.\u001b[39mtemp \u001b[38;5;241m*\u001b[39m grads \n\u001b[0;32m    112\u001b[0m             \u001b[38;5;241m+\u001b[39m np\u001b[38;5;241m.\u001b[39msqrt(\u001b[38;5;241m2\u001b[39m\u001b[38;5;241m*\u001b[39m\u001b[38;5;28mself\u001b[39m\u001b[38;5;241m.\u001b[39mdelta_t) \u001b[38;5;241m*\u001b[39m noise\n\u001b[0;32m    113\u001b[0m             )\n\u001b[0;32m    114\u001b[0m \u001b[38;5;28;01mreturn\u001b[39;00m y\n",
      "\u001b[1;31mKeyboardInterrupt\u001b[0m: "
     ]
    }
   ],
   "source": [
    "bdec=BDEC(mu_0,sigma_0,1,thr,B,N_init,weights,means,covs,delta_t,T,\n",
    "          init_particles_hot,init_particles_target,J,temp_hot=0.05,temp_target=1\n",
    "          )\n",
    "\n",
    "bdec.run()"
   ]
  },
  {
   "cell_type": "code",
   "execution_count": 76,
   "id": "760e8aad",
   "metadata": {},
   "outputs": [
    {
     "data": {
      "text/plain": [
       "array([[nan, nan],\n",
       "       [nan, nan],\n",
       "       [nan, nan],\n",
       "       ...,\n",
       "       [nan, nan],\n",
       "       [nan, nan],\n",
       "       [nan, nan]])"
      ]
     },
     "execution_count": 76,
     "metadata": {},
     "output_type": "execute_result"
    }
   ],
   "source": [
    "bdec.current_particles_target"
   ]
  }
 ],
 "metadata": {
  "kernelspec": {
   "display_name": "Python 3",
   "language": "python",
   "name": "python3"
  },
  "language_info": {
   "codemirror_mode": {
    "name": "ipython",
    "version": 3
   },
   "file_extension": ".py",
   "mimetype": "text/x-python",
   "name": "python",
   "nbconvert_exporter": "python",
   "pygments_lexer": "ipython3",
   "version": "3.11.9"
  }
 },
 "nbformat": 4,
 "nbformat_minor": 5
}
