{
 "cells": [
  {
   "cell_type": "markdown",
   "id": "8214175e",
   "metadata": {},
   "source": []
  },
  {
   "cell_type": "code",
   "execution_count": 1,
   "id": "c17f6eba",
   "metadata": {},
   "outputs": [],
   "source": [
    "import numpy as np\n",
    "from scipy.stats import multivariate_normal\n",
    "from scipy.optimize import minimize\n",
    "from ula import GaussianMixtureULA\n",
    "from Metropolized_Transition_Operator import MetropolizedTransitionOperator\n",
    "from Exploration_Component import exploration_component\n",
    "from BDLS import BDLS_algo\n",
    "from BDEC import BDEC"
   ]
  },
  {
   "cell_type": "code",
   "execution_count": 2,
   "id": "1248dd72",
   "metadata": {},
   "outputs": [],
   "source": [
    "%load_ext autoreload\n",
    "%autoreload 2"
   ]
  },
  {
   "cell_type": "markdown",
   "id": "483d997f",
   "metadata": {},
   "source": [
    "# Experiment\n",
    "We plan to reproduce the experiment made in section 4.1 of the paper, i.e. target distribution is a simple\n",
    "2D Gaussian Mixture."
   ]
  },
  {
   "cell_type": "code",
   "execution_count": null,
   "id": "7235a5b1",
   "metadata": {},
   "outputs": [],
   "source": [
    "mu_0=np.array([[0,8]])\n",
    "sigma_0=np.array([[0.3,0],[0,0.01]])\n",
    "N_init= 2000\n",
    "temp_hot=0.05\n",
    "\n",
    "weights = np.full(4, 1/4)\n",
    "\n",
    "means = np.array([\n",
    "    [ 0.0, 8.0],\n",
    "    [ 0.0, 2.0],\n",
    "    [-3.0, 5.0],\n",
    "    [ 3.0, 5.0],\n",
    "])\n",
    "\n",
    "covs = np.array([\n",
    "    [[1.2, 0.0], [0.0, 0.01]],\n",
    "    [[1.2, 0.0], [0.0, 0.01]],\n",
    "    [[0.01, 0.0], [0.0, 2.0]],\n",
    "    [[0.01, 0.0], [0.0, 2.0]],\n",
    "])\n",
    "\n",
    "init_particles_target=multivariate_normal.rvs(mean=mu_0[0], cov=sigma_0, \n",
    "                                              size=N_init)\n",
    "init_particles_hot=multivariate_normal.rvs(mean=mu_0[0], cov=sigma_0/temp_hot, \n",
    "                                           size=N_init)\n",
    "delta_t=0.005\n",
    "J=50 # Time for one iteration seems very long, consider setting it to 10\n",
    "T=6 \n",
    "B=12\n",
    "thr=2\n",
    "\n"
   ]
  },
  {
   "cell_type": "code",
   "execution_count": 68,
   "id": "df9a76f6",
   "metadata": {},
   "outputs": [
    {
     "name": "stdout",
     "output_type": "stream",
     "text": [
      "0\n",
      "1\n",
      "2\n",
      "3\n",
      "4\n",
      "5\n",
      "0\n",
      "0\n",
      "1\n",
      "2\n",
      "3\n",
      "4\n",
      "5\n"
     ]
    },
    {
     "ename": "KeyboardInterrupt",
     "evalue": "",
     "output_type": "error",
     "traceback": [
      "\u001b[1;31m---------------------------------------------------------------------------\u001b[0m",
      "\u001b[1;31mKeyboardInterrupt\u001b[0m                         Traceback (most recent call last)",
      "Cell \u001b[1;32mIn[68], line 5\u001b[0m\n\u001b[0;32m      1\u001b[0m bdec\u001b[38;5;241m=\u001b[39mBDEC(mu_0,sigma_0,\u001b[38;5;241m1\u001b[39m,thr,B,N_init,weights,means,covs,delta_t,T,\n\u001b[0;32m      2\u001b[0m           init_particles_hot,init_particles_target,J,temp_hot\u001b[38;5;241m=\u001b[39m\u001b[38;5;241m0.05\u001b[39m,temp_target\u001b[38;5;241m=\u001b[39m\u001b[38;5;241m1\u001b[39m\n\u001b[0;32m      3\u001b[0m           )\n\u001b[1;32m----> 5\u001b[0m \u001b[43mbdec\u001b[49m\u001b[38;5;241;43m.\u001b[39;49m\u001b[43mrun\u001b[49m\u001b[43m(\u001b[49m\u001b[43m)\u001b[49m\n",
      "File \u001b[1;32mc:\\Users\\aymer\\Documents\\Sampling\\BDEC.py:88\u001b[0m, in \u001b[0;36mBDEC.run\u001b[1;34m(self)\u001b[0m\n\u001b[0;32m     86\u001b[0m         \u001b[38;5;28mself\u001b[39m\u001b[38;5;241m.\u001b[39mupdate_hot(m)\n\u001b[0;32m     87\u001b[0m         \u001b[38;5;28mself\u001b[39m\u001b[38;5;241m.\u001b[39mexploration_component(j)\n\u001b[1;32m---> 88\u001b[0m         \u001b[38;5;28;43mself\u001b[39;49m\u001b[38;5;241;43m.\u001b[39;49m\u001b[43mupdate_target\u001b[49m\u001b[43m(\u001b[49m\u001b[43mm\u001b[49m\u001b[43m)\u001b[49m\n\u001b[0;32m     89\u001b[0m         \u001b[38;5;28mprint\u001b[39m(m)\n\u001b[0;32m     90\u001b[0m \u001b[38;5;28;01mreturn\u001b[39;00m \u001b[38;5;28mself\u001b[39m\u001b[38;5;241m.\u001b[39mcurrent_particles_target\n",
      "File \u001b[1;32mc:\\Users\\aymer\\Documents\\Sampling\\BDEC.py:81\u001b[0m, in \u001b[0;36mBDEC.update_target\u001b[1;34m(self, m)\u001b[0m\n\u001b[0;32m     76\u001b[0m \u001b[38;5;28mself\u001b[39m\u001b[38;5;241m.\u001b[39mcurrent_particles_target\u001b[38;5;241m=\u001b[39mmto\u001b[38;5;241m.\u001b[39mupdate_particles()\n\u001b[0;32m     77\u001b[0m \u001b[38;5;28mself\u001b[39m\u001b[38;5;241m.\u001b[39msampler_target\u001b[38;5;241m=\u001b[39mBDLS_algo(\u001b[38;5;28mself\u001b[39m\u001b[38;5;241m.\u001b[39mweights, \u001b[38;5;28mself\u001b[39m\u001b[38;5;241m.\u001b[39mmeans, \n\u001b[0;32m     78\u001b[0m                               \u001b[38;5;28mself\u001b[39m\u001b[38;5;241m.\u001b[39mcovs, \u001b[38;5;28mself\u001b[39m\u001b[38;5;241m.\u001b[39mtemp_target, \n\u001b[0;32m     79\u001b[0m                               \u001b[38;5;28mself\u001b[39m\u001b[38;5;241m.\u001b[39mdelta_t,\u001b[38;5;28mself\u001b[39m\u001b[38;5;241m.\u001b[39mT,\n\u001b[0;32m     80\u001b[0m                               \u001b[38;5;28mself\u001b[39m\u001b[38;5;241m.\u001b[39mcurrent_particles_target)                \n\u001b[1;32m---> 81\u001b[0m \u001b[38;5;28mself\u001b[39m\u001b[38;5;241m.\u001b[39mcurrent_particles_target\u001b[38;5;241m=\u001b[39m\u001b[38;5;28;43mself\u001b[39;49m\u001b[38;5;241;43m.\u001b[39;49m\u001b[43msampler_target\u001b[49m\u001b[38;5;241;43m.\u001b[39;49m\u001b[43mBD\u001b[49m\u001b[43m(\u001b[49m\u001b[43m)\u001b[49m\n",
      "File \u001b[1;32mc:\\Users\\aymer\\Documents\\Sampling\\BDLS.py:43\u001b[0m, in \u001b[0;36mBDLS_algo.BD\u001b[1;34m(self)\u001b[0m\n\u001b[0;32m     41\u001b[0m \u001b[38;5;28;01mdef\u001b[39;00m \u001b[38;5;21mBD\u001b[39m(\u001b[38;5;28mself\u001b[39m):\n\u001b[0;32m     42\u001b[0m     \u001b[38;5;66;03m# print(\"particules avant BD\",self.current_particles)\u001b[39;00m\n\u001b[1;32m---> 43\u001b[0m     r\u001b[38;5;241m=\u001b[39m\u001b[38;5;28;43mself\u001b[39;49m\u001b[38;5;241;43m.\u001b[39;49m\u001b[43mcompute_r\u001b[49m\u001b[43m(\u001b[49m\u001b[43m)\u001b[49m\n\u001b[0;32m     44\u001b[0m     N\u001b[38;5;241m=\u001b[39m\u001b[38;5;28mlen\u001b[39m(\u001b[38;5;28mself\u001b[39m\u001b[38;5;241m.\u001b[39mcurrent_particles)\n\u001b[0;32m     45\u001b[0m     old_particles\u001b[38;5;241m=\u001b[39m\u001b[38;5;28mlist\u001b[39m(\u001b[38;5;28mself\u001b[39m\u001b[38;5;241m.\u001b[39mcurrent_particles)\n",
      "File \u001b[1;32mc:\\Users\\aymer\\Documents\\Sampling\\BDLS.py:36\u001b[0m, in \u001b[0;36mBDLS_algo.compute_r\u001b[1;34m(self)\u001b[0m\n\u001b[0;32m     32\u001b[0m \u001b[38;5;28;01mfor\u001b[39;00m i \u001b[38;5;129;01min\u001b[39;00m \u001b[38;5;28mrange\u001b[39m(N):\n\u001b[0;32m     33\u001b[0m     kernel_values\u001b[38;5;241m=\u001b[39m[kernel(\u001b[38;5;28mself\u001b[39m\u001b[38;5;241m.\u001b[39mcurrent_particles[i],\n\u001b[0;32m     34\u001b[0m                           \u001b[38;5;28mself\u001b[39m\u001b[38;5;241m.\u001b[39mcurrent_particles[j])\u001b[38;5;28;01mfor\u001b[39;00m j \u001b[38;5;129;01min\u001b[39;00m \u001b[38;5;28mrange\u001b[39m(N)]\n\u001b[0;32m     35\u001b[0m     r[i]\u001b[38;5;241m=\u001b[39m(\n\u001b[1;32m---> 36\u001b[0m         np\u001b[38;5;241m.\u001b[39mlog(\u001b[43mnp\u001b[49m\u001b[38;5;241;43m.\u001b[39;49m\u001b[43mmean\u001b[49m\u001b[43m(\u001b[49m\u001b[43mkernel_values\u001b[49m\u001b[43m)\u001b[49m) \n\u001b[0;32m     37\u001b[0m     \u001b[38;5;241m+\u001b[39m \u001b[38;5;28mfloat\u001b[39m(\u001b[38;5;28mself\u001b[39m\u001b[38;5;241m.\u001b[39msampler\u001b[38;5;241m.\u001b[39mV(\u001b[38;5;28mself\u001b[39m\u001b[38;5;241m.\u001b[39mcurrent_particles[i]))\n\u001b[0;32m     38\u001b[0m     )\n\u001b[0;32m     39\u001b[0m \u001b[38;5;28;01mreturn\u001b[39;00m r\n",
      "File \u001b[1;32m<__array_function__ internals>:200\u001b[0m, in \u001b[0;36mmean\u001b[1;34m(*args, **kwargs)\u001b[0m\n",
      "File \u001b[1;32m~\\AppData\\Local\\Packages\\PythonSoftwareFoundation.Python.3.11_qbz5n2kfra8p0\\LocalCache\\local-packages\\Python311\\site-packages\\numpy\\core\\fromnumeric.py:3464\u001b[0m, in \u001b[0;36mmean\u001b[1;34m(a, axis, dtype, out, keepdims, where)\u001b[0m\n\u001b[0;32m   3461\u001b[0m     \u001b[38;5;28;01melse\u001b[39;00m:\n\u001b[0;32m   3462\u001b[0m         \u001b[38;5;28;01mreturn\u001b[39;00m mean(axis\u001b[38;5;241m=\u001b[39maxis, dtype\u001b[38;5;241m=\u001b[39mdtype, out\u001b[38;5;241m=\u001b[39mout, \u001b[38;5;241m*\u001b[39m\u001b[38;5;241m*\u001b[39mkwargs)\n\u001b[1;32m-> 3464\u001b[0m \u001b[38;5;28;01mreturn\u001b[39;00m \u001b[43m_methods\u001b[49m\u001b[38;5;241;43m.\u001b[39;49m\u001b[43m_mean\u001b[49m\u001b[43m(\u001b[49m\u001b[43ma\u001b[49m\u001b[43m,\u001b[49m\u001b[43m \u001b[49m\u001b[43maxis\u001b[49m\u001b[38;5;241;43m=\u001b[39;49m\u001b[43maxis\u001b[49m\u001b[43m,\u001b[49m\u001b[43m \u001b[49m\u001b[43mdtype\u001b[49m\u001b[38;5;241;43m=\u001b[39;49m\u001b[43mdtype\u001b[49m\u001b[43m,\u001b[49m\n\u001b[0;32m   3465\u001b[0m \u001b[43m                      \u001b[49m\u001b[43mout\u001b[49m\u001b[38;5;241;43m=\u001b[39;49m\u001b[43mout\u001b[49m\u001b[43m,\u001b[49m\u001b[43m \u001b[49m\u001b[38;5;241;43m*\u001b[39;49m\u001b[38;5;241;43m*\u001b[39;49m\u001b[43mkwargs\u001b[49m\u001b[43m)\u001b[49m\n",
      "File \u001b[1;32m~\\AppData\\Local\\Packages\\PythonSoftwareFoundation.Python.3.11_qbz5n2kfra8p0\\LocalCache\\local-packages\\Python311\\site-packages\\numpy\\core\\_methods.py:181\u001b[0m, in \u001b[0;36m_mean\u001b[1;34m(a, axis, dtype, out, keepdims, where)\u001b[0m\n\u001b[0;32m    178\u001b[0m         dtype \u001b[38;5;241m=\u001b[39m mu\u001b[38;5;241m.\u001b[39mdtype(\u001b[38;5;124m'\u001b[39m\u001b[38;5;124mf4\u001b[39m\u001b[38;5;124m'\u001b[39m)\n\u001b[0;32m    179\u001b[0m         is_float16_result \u001b[38;5;241m=\u001b[39m \u001b[38;5;28;01mTrue\u001b[39;00m\n\u001b[1;32m--> 181\u001b[0m ret \u001b[38;5;241m=\u001b[39m umr_sum(arr, axis, dtype, out, keepdims, where\u001b[38;5;241m=\u001b[39mwhere)\n\u001b[0;32m    182\u001b[0m \u001b[38;5;28;01mif\u001b[39;00m \u001b[38;5;28misinstance\u001b[39m(ret, mu\u001b[38;5;241m.\u001b[39mndarray):\n\u001b[0;32m    183\u001b[0m     \u001b[38;5;28;01mwith\u001b[39;00m _no_nep50_warning():\n",
      "\u001b[1;31mKeyboardInterrupt\u001b[0m: "
     ]
    }
   ],
   "source": [
    "bdec=BDEC(mu_0,sigma_0,1,thr,B,N_init,weights,means,covs,delta_t,T,\n",
    "          init_particles_hot,init_particles_target,J,temp_hot=0.05,temp_target=1\n",
    "          )\n",
    "\n",
    "bdec.run()"
   ]
  }
 ],
 "metadata": {
  "kernelspec": {
   "display_name": "Python 3",
   "language": "python",
   "name": "python3"
  },
  "language_info": {
   "codemirror_mode": {
    "name": "ipython",
    "version": 3
   },
   "file_extension": ".py",
   "mimetype": "text/x-python",
   "name": "python",
   "nbconvert_exporter": "python",
   "pygments_lexer": "ipython3",
   "version": "3.11.9"
  }
 },
 "nbformat": 4,
 "nbformat_minor": 5
}
